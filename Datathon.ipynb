{
 "cells": [
  {
   "cell_type": "markdown",
   "metadata": {
    "colab_type": "text",
    "id": "5bcFBFfkLGAD"
   },
   "source": [
    "# A predictive model for water pollution given changes in industry across counties in the United States\n"
   ]
  },
  {
   "cell_type": "code",
   "execution_count": 0,
   "metadata": {
    "colab": {},
    "colab_type": "code",
    "id": "cYi_qZKl4V0R"
   },
   "outputs": [],
   "source": [
    "import pandas as pd\n",
    "import numpy as np\n",
    "import matplotlib.pyplot as plt\n",
    "import seaborn as sns\n",
    "from scipy import stats\n",
    "import missingno as msno\n",
    "#import featuretools as ft\n",
    "#import lightgbm as lgb\n",
    "#import scikitplot as skplt\n",
    "from sklearn.preprocessing import LabelEncoder\n",
    "\n",
    "sns.set(rc={'figure.figsize':(20, 10)})\n",
    "\n",
    "import os"
   ]
  },
  {
   "cell_type": "markdown",
   "metadata": {
    "colab_type": "text",
    "id": "cPGPD6r8LGAI"
   },
   "source": [
    "### Authors"
   ]
  },
  {
   "cell_type": "markdown",
   "metadata": {
    "colab_type": "text",
    "id": "_Zl7woyaLGAL"
   },
   "source": [
    "Brandon Wong <br>\n",
    "Qiyue Zou <br>\n",
    "Dajun Luo <br>\n",
    "Zhe Wang "
   ]
  },
  {
   "cell_type": "markdown",
   "metadata": {
    "colab_type": "text",
    "id": "tABMuzgRQVXD"
   },
   "source": [
    "## Non-Technical Executive Summary"
   ]
  },
  {
   "cell_type": "markdown",
   "metadata": {
    "colab_type": "text",
    "id": "8gI1zXAILGAW"
   },
   "source": [
    "# **Abstract** \n",
    "\n",
    "Water is an undeniable resource. It is essential for human wellbeing and is critical to various industry as well. However, as our economy grows and our industry develops, the by-products of expansion begin to accumulate. Access to safe water, even in a developed country such as the United States, is not guaranteed. Here using machine learning methods, we predict the quality of water in certain counties according to the distribution of industry types in those regions. Our model predictst that ...\n",
    "\n",
    "\n",
    "\n",
    "With this in mind, we decided to explore how recent changes in industry affect water quality. ***after exploration we adjusted our purpose and decided to answer X question using Y predictive model***\n",
    "\n",
    "Our finding can find its application in informing the at-risk population and ultimately produce a predictive model with the aim to mitigate water contamination. \n",
    "\n",
    "**findings here**"
   ]
  },
  {
   "cell_type": "markdown",
   "metadata": {
    "colab_type": "text",
    "id": "wWYF8a7b8p6q"
   },
   "source": []
  },
  {
   "cell_type": "markdown",
   "metadata": {
    "colab_type": "text",
    "id": "KFo-QcTHQfqB"
   },
   "source": [
    "## Technical Exposition"
   ]
  },
  {
   "cell_type": "markdown",
   "metadata": {
    "colab_type": "text",
    "id": "-WEpNHWiTOJY"
   },
   "source": [
    "**summary here** methodology/approach"
   ]
  },
  {
   "cell_type": "markdown",
   "metadata": {
    "colab_type": "text",
    "id": "EH34yPSPLGAO"
   },
   "source": [
    "### Team Toolset"
   ]
  },
  {
   "cell_type": "markdown",
   "metadata": {
    "colab_type": "text",
    "id": "qxL2dJ6CLGAQ"
   },
   "source": [
    "Python: scikit-learn, pandas, Jupyter Notebook, Colaboratory<br>\n",
    "Tableau, Excel, Box"
   ]
  },
  {
   "cell_type": "markdown",
   "metadata": {
    "colab_type": "text",
    "id": "yuQkpmcYQ2Ac"
   },
   "source": [
    "### Data Understanding"
   ]
  },
  {
   "cell_type": "markdown",
   "metadata": {
    "colab_type": "text",
    "id": "vx0aQAxJQ0yX"
   },
   "source": [
    "***Explain why we used the datasets we used***\n",
    "\n",
    "The following core datasets were pre-cleaned and provided by Citadel and CorrelationOne:\n",
    "1.   *chemicals.csv*\n",
    "2.   *droughts.csv*\n",
    "3.   *earnings.csv*\n",
    "4.   *educational_attainment.csv*\n",
    "5.   *industry_occupation.csv*\n",
    "6.   *water_usage.csv*\n",
    "\n",
    "However, not all of them were relevent to our exploration. Since we wanted to study the relationship between changes in industry and water quality, we decided to use the *chemicals.csv* and *industry_occupation.csv* datasets. \n",
    "\n"
   ]
  },
  {
   "cell_type": "markdown",
   "metadata": {
    "colab_type": "text",
    "id": "nxbNiP-JdSkt"
   },
   "source": [
    "### Wrangling & Cleaning Process"
   ]
  },
  {
   "cell_type": "markdown",
   "metadata": {
    "colab_type": "text",
    "id": "fgy05lF6sF8D"
   },
   "source": [
    "Before performing any further analysis, we should first pre-process the datasets."
   ]
  },
  {
   "cell_type": "markdown",
   "metadata": {
    "colab_type": "text",
    "id": "_LgGDHODgbrl"
   },
   "source": [
    "*chemicals.csv*"
   ]
  },
  {
   "cell_type": "code",
   "execution_count": 8,
   "metadata": {
    "colab": {
     "base_uri": "https://localhost:8080/",
     "height": 289
    },
    "colab_type": "code",
    "id": "EjhnFeEEggDh",
    "outputId": "0fa9678f-a8f5-4dfd-f014-ff01cda24992"
   },
   "outputs": [
    {
     "data": {
      "text/html": [
       "<div>\n",
       "<style scoped>\n",
       "    .dataframe tbody tr th:only-of-type {\n",
       "        vertical-align: middle;\n",
       "    }\n",
       "\n",
       "    .dataframe tbody tr th {\n",
       "        vertical-align: top;\n",
       "    }\n",
       "\n",
       "    .dataframe thead th {\n",
       "        text-align: right;\n",
       "    }\n",
       "</style>\n",
       "<table border=\"1\" class=\"dataframe\">\n",
       "  <thead>\n",
       "    <tr style=\"text-align: right;\">\n",
       "      <th></th>\n",
       "      <th>cws_name</th>\n",
       "      <th>chemical_species</th>\n",
       "      <th>contaminant_level</th>\n",
       "      <th>county</th>\n",
       "      <th>pws_id</th>\n",
       "      <th>pop_served</th>\n",
       "      <th>state</th>\n",
       "      <th>unit_measurement</th>\n",
       "      <th>value</th>\n",
       "      <th>year</th>\n",
       "      <th>fips</th>\n",
       "      <th>state_fips</th>\n",
       "    </tr>\n",
       "  </thead>\n",
       "  <tbody>\n",
       "    <tr>\n",
       "      <th>0</th>\n",
       "      <td>CALIFORNIA WATER SERVICE - LIVERMORE</td>\n",
       "      <td>Uranium</td>\n",
       "      <td>Less than or equal MCL</td>\n",
       "      <td>Alameda</td>\n",
       "      <td>CA0110003</td>\n",
       "      <td>57200</td>\n",
       "      <td>California</td>\n",
       "      <td>micrograms/L</td>\n",
       "      <td>1.54</td>\n",
       "      <td>2000</td>\n",
       "      <td>6001</td>\n",
       "      <td>6</td>\n",
       "    </tr>\n",
       "    <tr>\n",
       "      <th>1</th>\n",
       "      <td>CITY OF LIVERMORE</td>\n",
       "      <td>Uranium</td>\n",
       "      <td>Less than or equal MCL</td>\n",
       "      <td>Alameda</td>\n",
       "      <td>CA0110011</td>\n",
       "      <td>26400</td>\n",
       "      <td>California</td>\n",
       "      <td>micrograms/L</td>\n",
       "      <td>1.64</td>\n",
       "      <td>2000</td>\n",
       "      <td>6001</td>\n",
       "      <td>6</td>\n",
       "    </tr>\n",
       "    <tr>\n",
       "      <th>2</th>\n",
       "      <td>CITY OF PLEASANTON</td>\n",
       "      <td>Uranium</td>\n",
       "      <td>Less than or equal MCL</td>\n",
       "      <td>Alameda</td>\n",
       "      <td>CA0110008</td>\n",
       "      <td>70600</td>\n",
       "      <td>California</td>\n",
       "      <td>micrograms/L</td>\n",
       "      <td>1.64</td>\n",
       "      <td>2000</td>\n",
       "      <td>6001</td>\n",
       "      <td>6</td>\n",
       "    </tr>\n",
       "    <tr>\n",
       "      <th>3</th>\n",
       "      <td>DUBLIN SAN RAMON SERVICES DISTRICT</td>\n",
       "      <td>Uranium</td>\n",
       "      <td>Less than or equal MCL</td>\n",
       "      <td>Alameda</td>\n",
       "      <td>CA0110009</td>\n",
       "      <td>72500</td>\n",
       "      <td>California</td>\n",
       "      <td>micrograms/L</td>\n",
       "      <td>1.64</td>\n",
       "      <td>2000</td>\n",
       "      <td>6001</td>\n",
       "      <td>6</td>\n",
       "    </tr>\n",
       "    <tr>\n",
       "      <th>4</th>\n",
       "      <td>NORRIS CANYON PROPERTY OWNERS ASSN</td>\n",
       "      <td>Uranium</td>\n",
       "      <td>Less than or equal MCL</td>\n",
       "      <td>Alameda</td>\n",
       "      <td>CA0103040</td>\n",
       "      <td>100</td>\n",
       "      <td>California</td>\n",
       "      <td>micrograms/L</td>\n",
       "      <td>4.51</td>\n",
       "      <td>2000</td>\n",
       "      <td>6001</td>\n",
       "      <td>6</td>\n",
       "    </tr>\n",
       "  </tbody>\n",
       "</table>\n",
       "</div>"
      ],
      "text/plain": [
       "                               cws_name chemical_species  \\\n",
       "0  CALIFORNIA WATER SERVICE - LIVERMORE          Uranium   \n",
       "1                     CITY OF LIVERMORE          Uranium   \n",
       "2                    CITY OF PLEASANTON          Uranium   \n",
       "3    DUBLIN SAN RAMON SERVICES DISTRICT          Uranium   \n",
       "4    NORRIS CANYON PROPERTY OWNERS ASSN          Uranium   \n",
       "\n",
       "        contaminant_level   county     pws_id  pop_served       state  \\\n",
       "0  Less than or equal MCL  Alameda  CA0110003       57200  California   \n",
       "1  Less than or equal MCL  Alameda  CA0110011       26400  California   \n",
       "2  Less than or equal MCL  Alameda  CA0110008       70600  California   \n",
       "3  Less than or equal MCL  Alameda  CA0110009       72500  California   \n",
       "4  Less than or equal MCL  Alameda  CA0103040         100  California   \n",
       "\n",
       "  unit_measurement  value  year  fips  state_fips  \n",
       "0     micrograms/L   1.54  2000  6001           6  \n",
       "1     micrograms/L   1.64  2000  6001           6  \n",
       "2     micrograms/L   1.64  2000  6001           6  \n",
       "3     micrograms/L   1.64  2000  6001           6  \n",
       "4     micrograms/L   4.51  2000  6001           6  "
      ]
     },
     "execution_count": 8,
     "metadata": {
      "tags": []
     },
     "output_type": "execute_result"
    }
   ],
   "source": [
    "chemicals = pd.read_csv(\"chemicals.csv\")\n",
    "chemicals.head()"
   ]
  },
  {
   "cell_type": "markdown",
   "metadata": {
    "colab_type": "text",
    "id": "3Yf4hlPviAvG"
   },
   "source": [
    "*industry_occupation.csv*"
   ]
  },
  {
   "cell_type": "code",
   "execution_count": 9,
   "metadata": {
    "colab": {
     "base_uri": "https://localhost:8080/",
     "height": 394
    },
    "colab_type": "code",
    "id": "yNSkdERPuI2T",
    "outputId": "bc9b1ad9-8795-4d58-d915-804fc6dd17f5"
   },
   "outputs": [
    {
     "data": {
      "text/html": [
       "<div>\n",
       "<style scoped>\n",
       "    .dataframe tbody tr th:only-of-type {\n",
       "        vertical-align: middle;\n",
       "    }\n",
       "\n",
       "    .dataframe tbody tr th {\n",
       "        vertical-align: top;\n",
       "    }\n",
       "\n",
       "    .dataframe thead th {\n",
       "        text-align: right;\n",
       "    }\n",
       "</style>\n",
       "<table border=\"1\" class=\"dataframe\">\n",
       "  <thead>\n",
       "    <tr style=\"text-align: right;\">\n",
       "      <th></th>\n",
       "      <th>geo_id</th>\n",
       "      <th>fips</th>\n",
       "      <th>county</th>\n",
       "      <th>total_employed</th>\n",
       "      <th>agriculture</th>\n",
       "      <th>construction</th>\n",
       "      <th>manufacturing</th>\n",
       "      <th>wholesale_trade</th>\n",
       "      <th>retail_trade</th>\n",
       "      <th>transport_utilities</th>\n",
       "      <th>information</th>\n",
       "      <th>finance_insurance_realestate</th>\n",
       "      <th>prof_scientific_waste</th>\n",
       "      <th>edu_health</th>\n",
       "      <th>arts_recreation</th>\n",
       "      <th>other</th>\n",
       "      <th>public_admin</th>\n",
       "      <th>year</th>\n",
       "    </tr>\n",
       "  </thead>\n",
       "  <tbody>\n",
       "    <tr>\n",
       "      <th>0</th>\n",
       "      <td>0500000US01003</td>\n",
       "      <td>1003</td>\n",
       "      <td>Baldwin County, Alabama</td>\n",
       "      <td>77263.0</td>\n",
       "      <td>1302.0</td>\n",
       "      <td>6489.0</td>\n",
       "      <td>6134.0</td>\n",
       "      <td>2131.0</td>\n",
       "      <td>9525.0</td>\n",
       "      <td>3557.0</td>\n",
       "      <td>940.0</td>\n",
       "      <td>5893.0</td>\n",
       "      <td>9873.0</td>\n",
       "      <td>14753.0</td>\n",
       "      <td>8257.0</td>\n",
       "      <td>3575.0</td>\n",
       "      <td>4834.0</td>\n",
       "      <td>2010</td>\n",
       "    </tr>\n",
       "    <tr>\n",
       "      <th>1</th>\n",
       "      <td>0500000US01015</td>\n",
       "      <td>1015</td>\n",
       "      <td>Calhoun County, Alabama</td>\n",
       "      <td>42768.0</td>\n",
       "      <td>337.0</td>\n",
       "      <td>1371.0</td>\n",
       "      <td>7868.0</td>\n",
       "      <td>750.0</td>\n",
       "      <td>5706.0</td>\n",
       "      <td>1626.0</td>\n",
       "      <td>779.0</td>\n",
       "      <td>2234.0</td>\n",
       "      <td>3776.0</td>\n",
       "      <td>8351.0</td>\n",
       "      <td>3799.0</td>\n",
       "      <td>2440.0</td>\n",
       "      <td>3731.0</td>\n",
       "      <td>2010</td>\n",
       "    </tr>\n",
       "    <tr>\n",
       "      <th>2</th>\n",
       "      <td>0500000US01043</td>\n",
       "      <td>1043</td>\n",
       "      <td>Cullman County, Alabama</td>\n",
       "      <td>NaN</td>\n",
       "      <td>NaN</td>\n",
       "      <td>NaN</td>\n",
       "      <td>NaN</td>\n",
       "      <td>NaN</td>\n",
       "      <td>NaN</td>\n",
       "      <td>NaN</td>\n",
       "      <td>NaN</td>\n",
       "      <td>NaN</td>\n",
       "      <td>NaN</td>\n",
       "      <td>NaN</td>\n",
       "      <td>NaN</td>\n",
       "      <td>NaN</td>\n",
       "      <td>NaN</td>\n",
       "      <td>2010</td>\n",
       "    </tr>\n",
       "    <tr>\n",
       "      <th>3</th>\n",
       "      <td>0500000US01049</td>\n",
       "      <td>1049</td>\n",
       "      <td>DeKalb County, Alabama</td>\n",
       "      <td>NaN</td>\n",
       "      <td>NaN</td>\n",
       "      <td>NaN</td>\n",
       "      <td>NaN</td>\n",
       "      <td>NaN</td>\n",
       "      <td>NaN</td>\n",
       "      <td>NaN</td>\n",
       "      <td>NaN</td>\n",
       "      <td>NaN</td>\n",
       "      <td>NaN</td>\n",
       "      <td>NaN</td>\n",
       "      <td>NaN</td>\n",
       "      <td>NaN</td>\n",
       "      <td>NaN</td>\n",
       "      <td>2010</td>\n",
       "    </tr>\n",
       "    <tr>\n",
       "      <th>4</th>\n",
       "      <td>0500000US01051</td>\n",
       "      <td>1051</td>\n",
       "      <td>Elmore County, Alabama</td>\n",
       "      <td>NaN</td>\n",
       "      <td>NaN</td>\n",
       "      <td>NaN</td>\n",
       "      <td>NaN</td>\n",
       "      <td>NaN</td>\n",
       "      <td>NaN</td>\n",
       "      <td>NaN</td>\n",
       "      <td>NaN</td>\n",
       "      <td>NaN</td>\n",
       "      <td>NaN</td>\n",
       "      <td>NaN</td>\n",
       "      <td>NaN</td>\n",
       "      <td>NaN</td>\n",
       "      <td>NaN</td>\n",
       "      <td>2010</td>\n",
       "    </tr>\n",
       "  </tbody>\n",
       "</table>\n",
       "</div>"
      ],
      "text/plain": [
       "           geo_id  fips                   county  total_employed  agriculture  \\\n",
       "0  0500000US01003  1003  Baldwin County, Alabama         77263.0       1302.0   \n",
       "1  0500000US01015  1015  Calhoun County, Alabama         42768.0        337.0   \n",
       "2  0500000US01043  1043  Cullman County, Alabama             NaN          NaN   \n",
       "3  0500000US01049  1049   DeKalb County, Alabama             NaN          NaN   \n",
       "4  0500000US01051  1051   Elmore County, Alabama             NaN          NaN   \n",
       "\n",
       "   construction  manufacturing  wholesale_trade  retail_trade  \\\n",
       "0        6489.0         6134.0           2131.0        9525.0   \n",
       "1        1371.0         7868.0            750.0        5706.0   \n",
       "2           NaN            NaN              NaN           NaN   \n",
       "3           NaN            NaN              NaN           NaN   \n",
       "4           NaN            NaN              NaN           NaN   \n",
       "\n",
       "   transport_utilities  information  finance_insurance_realestate  \\\n",
       "0               3557.0        940.0                        5893.0   \n",
       "1               1626.0        779.0                        2234.0   \n",
       "2                  NaN          NaN                           NaN   \n",
       "3                  NaN          NaN                           NaN   \n",
       "4                  NaN          NaN                           NaN   \n",
       "\n",
       "   prof_scientific_waste  edu_health  arts_recreation   other  public_admin  \\\n",
       "0                 9873.0     14753.0           8257.0  3575.0        4834.0   \n",
       "1                 3776.0      8351.0           3799.0  2440.0        3731.0   \n",
       "2                    NaN         NaN              NaN     NaN           NaN   \n",
       "3                    NaN         NaN              NaN     NaN           NaN   \n",
       "4                    NaN         NaN              NaN     NaN           NaN   \n",
       "\n",
       "   year  \n",
       "0  2010  \n",
       "1  2010  \n",
       "2  2010  \n",
       "3  2010  \n",
       "4  2010  "
      ]
     },
     "execution_count": 9,
     "metadata": {
      "tags": []
     },
     "output_type": "execute_result"
    }
   ],
   "source": [
    "industry = pd.read_csv(\"industry_occupation.csv\",encoding = \"ISO-8859-1\")\n",
    "industry.head()"
   ]
  },
  {
   "cell_type": "markdown",
   "metadata": {
    "colab_type": "text",
    "id": "RHSc19yeuDYG"
   },
   "source": [
    "Checking if there extent of missing data,"
   ]
  },
  {
   "cell_type": "code",
   "execution_count": 10,
   "metadata": {
    "colab": {
     "base_uri": "https://localhost:8080/",
     "height": 51
    },
    "colab_type": "code",
    "id": "it1IcpBmuDQw",
    "outputId": "4ac435f5-4b1a-4844-a2c4-4a7559361f22"
   },
   "outputs": [
    {
     "name": "stdout",
     "output_type": "stream",
     "text": [
      "There are 0 NaNs in the chemical dataset\n",
      "There are 10780 NaNs in the industry_occupation dataset\n"
     ]
    }
   ],
   "source": [
    "print('There are %d NaNs in the chemical dataset' % sum(chemicals.isnull().sum()))\n",
    "print('There are %d NaNs in the industry_occupation dataset' % sum(industry.isnull().sum()))"
   ]
  },
  {
   "cell_type": "markdown",
   "metadata": {
    "colab_type": "text",
    "id": "4HpidHvptEgS"
   },
   "source": [
    "Although *chemical.csv* is complete, *industry_occupation.csv* is missing a substantial amount of data. So, we took a closer look at how the missing data in *industry_occupation.csv* was spread. "
   ]
  },
  {
   "cell_type": "code",
   "execution_count": 18,
   "metadata": {
    "colab": {
     "base_uri": "https://localhost:8080/",
     "height": 771
    },
    "colab_type": "code",
    "id": "PWod7b5fuP35",
    "outputId": "1f1a6dca-4d1f-4c3e-d1d1-714a8502747b"
   },
   "outputs": [
    {
     "data": {
      "image/png": "[encoded data removed]",
      "text/plain": [
       "<matplotlib.figure.Figure at 0x7f4a4a185240>"
      ]
     },
     "metadata": {
      "tags": []
     },
     "output_type": "display_data"
    }
   ],
   "source": [
    "msno.matrix(industry.sample(1000), inline=True, sparkline=True, figsize=(20,10), sort='ascending')"
   ]
  },
  {
   "cell_type": "markdown",
   "metadata": {
    "colab_type": "text",
    "id": "bQ_wmAMWuWh4"
   },
   "source": [
    "We observe a pattern from the plot: A county either has complete data, or it has no data about its industry and occupation. From the pattern and to avoid unnecessary complexity, we assume that the missing data points are MCAR. As a result, we just drop the rows with missing values."
   ]
  },
  {
   "cell_type": "code",
   "execution_count": 19,
   "metadata": {
    "colab": {
     "base_uri": "https://localhost:8080/",
     "height": 34
    },
    "colab_type": "code",
    "id": "Z83S689wudJ0",
    "outputId": "946a8cde-ad83-4f82-aaf9-304e6eab70d4"
   },
   "outputs": [
    {
     "name": "stdout",
     "output_type": "stream",
     "text": [
      "There are 0 NaNs in the industry_occupation dataset\n"
     ]
    }
   ],
   "source": [
    "industry.dropna(inplace=True)\n",
    "print('There are %d NaNs in the industry_occupation dataset' % sum(industry.isnull().sum()))"
   ]
  },
  {
   "cell_type": "markdown",
   "metadata": {
    "colab_type": "text",
    "id": "xG0V87eluoTw"
   },
   "source": [
    "Now, we should combine both datasets; the first step is alignment."
   ]
  },
  {
   "cell_type": "code",
   "execution_count": 0,
   "metadata": {
    "colab": {},
    "colab_type": "code",
    "id": "HekaAM6BxsVB"
   },
   "outputs": [],
   "source": [
    "industry['state'] = industry['county'].map(lambda x: x.split(',')[1][1:])\n",
    "industry['county'] = industry['county'].map(lambda x: x.split(',')[0].replace(' County', '')).tolist()"
   ]
  },
  {
   "cell_type": "code",
   "execution_count": 21,
   "metadata": {
    "colab": {
     "base_uri": "https://localhost:8080/",
     "height": 51
    },
    "colab_type": "code",
    "id": "OTmM4gcwxzh7",
    "outputId": "e6bcc724-87c0-4580-c26b-a5d099b440e9"
   },
   "outputs": [
    {
     "name": "stdout",
     "output_type": "stream",
     "text": [
      "There are 27 states in the chemical dataset\n",
      "There are 51 states in the industry_occupation dataset\n"
     ]
    }
   ],
   "source": [
    "print('There are %d states in the chemical dataset\\nThere are %d states in the industry_occupation dataset' % (len(set(chemicals['state'])), len(set(industry['state']))))"
   ]
  },
  {
   "cell_type": "markdown",
   "metadata": {
    "colab_type": "text",
    "id": "JA1RtRPYx1Vn"
   },
   "source": [
    "Since the set of states represented in the two datasets are non-identical, further analysis can only be performed on its intersection. "
   ]
  },
  {
   "cell_type": "code",
   "execution_count": 0,
   "metadata": {
    "colab": {},
    "colab_type": "code",
    "id": "0zTD1HL_zNxN"
   },
   "outputs": [],
   "source": [
    "industry = industry[industry['state'].isin(set(chemicals['state']))]"
   ]
  },
  {
   "cell_type": "markdown",
   "metadata": {
    "colab_type": "text",
    "id": "xFlV2ldvTYj-"
   },
   "source": [
    "### Exploratory Data Analysis"
   ]
  },
  {
   "cell_type": "markdown",
   "metadata": {
    "colab_type": "text",
    "id": "lIH9AIY5Te_c"
   },
   "source": [
    "Data manipulation and exploration process.\n",
    "\n",
    "Analytical and modeling steps\n",
    "\n",
    "1.   What hypotheses tests and ad-hoc studies did you we perform?\n",
    "2.   How were those results interpreted?\n",
    "3.   What patterns did we notice?\n",
    "4.   How did these patterns inform our subsequent decisions?\n"
   ]
  },
  {
   "cell_type": "markdown",
   "metadata": {
    "colab_type": "text",
    "id": "wq50KmK32wIL"
   },
   "source": [
    "Now, we want to see how employment is distributed across the major industry sectors within each county. However, \n",
    "there are over a thousand counties and it is not feasible to analyse the distribution on a county by county basis. To overcome this, we aggregate the employment distribution across all counties. "
   ]
  },
  {
   "cell_type": "code",
   "execution_count": 23,
   "metadata": {
    "colab": {
     "base_uri": "https://localhost:8080/",
     "height": 119
    },
    "colab_type": "code",
    "id": "I-1AZXDQ4J_v",
    "outputId": "9d6dd4e8-6f89-4129-b4b6-360178d40e60"
   },
   "outputs": [
    {
     "data": {
      "text/plain": [
       "Index(['geo_id', 'fips', 'county', 'total_employed', 'agriculture',\n",
       "       'construction', 'manufacturing', 'wholesale_trade', 'retail_trade',\n",
       "       'transport_utilities', 'information', 'finance_insurance_realestate',\n",
       "       'prof_scientific_waste', 'edu_health', 'arts_recreation', 'other',\n",
       "       'public_admin', 'year', 'state'],\n",
       "      dtype='object')"
      ]
     },
     "execution_count": 23,
     "metadata": {
      "tags": []
     },
     "output_type": "execute_result"
    }
   ],
   "source": [
    "industry.columns"
   ]
  },
  {
   "cell_type": "code",
   "execution_count": 24,
   "metadata": {
    "colab": {
     "base_uri": "https://localhost:8080/",
     "height": 290
    },
    "colab_type": "code",
    "id": "ywBW3Fw64PgE",
    "outputId": "2dd0cfb5-fbc6-4c5b-ed73-a58ee6e519a8"
   },
   "outputs": [
    {
     "data": {
      "image/png": "[encoded data removed]",
      "text/plain": [
       "<matplotlib.figure.Figure at 0x7f4a47764cf8>"
      ]
     },
     "metadata": {
      "tags": []
     },
     "output_type": "display_data"
    }
   ],
   "source": [
    "industry_cat = ['agriculture','construction', 'manufacturing', 'wholesale_trade', 'retail_trade','transport_utilities', 'information', 'finance_insurance_realestate','prof_scientific_waste', 'edu_health', 'arts_recreation', 'other','public_admin']\n",
    "industry_long = pd.melt(industry, id_vars=['geo_id', 'year'], value_vars=industry_cat, var_name='industry', value_name='population')\n",
    "industry_population = pd.pivot_table(industry_long, index='industry', columns='year', aggfunc='sum').astype('int')\n",
    "industry_population = pd.melt(industry_population['population'].T.reset_index(), id_vars=['year'], value_name='population')\n",
    "plot = sns.lineplot(x = 'year', y='population', hue='industry', data = industry_population)"
   ]
  },
  {
   "cell_type": "markdown",
   "metadata": {
    "colab_type": "text",
    "id": "kZVXPrld69n5"
   },
   "source": [
    "From the graph above, we see that employment distribution is stable from 2010-2016. Henceforth, we will assume that future employment distribution will be similarly stable. "
   ]
  },
  {
   "cell_type": "markdown",
   "metadata": {
    "colab_type": "text",
    "id": "gRgLMWOc_YII"
   },
   "source": [
    "Now, we will take a closer look at the *chemicals.csv* file. We want to see if the unit of measurement used is consistent over the years. \n",
    "\n",
    "1.   List item\n",
    "2.   List item\n",
    "\n"
   ]
  },
  {
   "cell_type": "code",
   "execution_count": 25,
   "metadata": {
    "colab": {
     "base_uri": "https://localhost:8080/",
     "height": 297
    },
    "colab_type": "code",
    "id": "g77X9MVL69VS",
    "outputId": "e10e32f9-3b3d-4bb5-b633-db4acc54337b"
   },
   "outputs": [
    {
     "data": {
      "text/html": [
       "<div>\n",
       "<style scoped>\n",
       "    .dataframe tbody tr th:only-of-type {\n",
       "        vertical-align: middle;\n",
       "    }\n",
       "\n",
       "    .dataframe tbody tr th {\n",
       "        vertical-align: top;\n",
       "    }\n",
       "\n",
       "    .dataframe thead tr th {\n",
       "        text-align: left;\n",
       "    }\n",
       "\n",
       "    .dataframe thead tr:last-of-type th {\n",
       "        text-align: right;\n",
       "    }\n",
       "</style>\n",
       "<table border=\"1\" class=\"dataframe\">\n",
       "  <thead>\n",
       "    <tr>\n",
       "      <th></th>\n",
       "      <th colspan=\"2\" halign=\"left\">value</th>\n",
       "    </tr>\n",
       "    <tr>\n",
       "      <th>unit_measurement</th>\n",
       "      <th>micrograms/L</th>\n",
       "      <th>milligrams/L</th>\n",
       "    </tr>\n",
       "    <tr>\n",
       "      <th>chemical_species</th>\n",
       "      <th></th>\n",
       "      <th></th>\n",
       "    </tr>\n",
       "  </thead>\n",
       "  <tbody>\n",
       "    <tr>\n",
       "      <th>Arsenic</th>\n",
       "      <td>142001</td>\n",
       "      <td>0</td>\n",
       "    </tr>\n",
       "    <tr>\n",
       "      <th>DEHP</th>\n",
       "      <td>72825</td>\n",
       "      <td>0</td>\n",
       "    </tr>\n",
       "    <tr>\n",
       "      <th>Halo-Acetic Acid</th>\n",
       "      <td>146132</td>\n",
       "      <td>0</td>\n",
       "    </tr>\n",
       "    <tr>\n",
       "      <th>Nitrates</th>\n",
       "      <td>0</td>\n",
       "      <td>329372</td>\n",
       "    </tr>\n",
       "    <tr>\n",
       "      <th>Trihalomethane</th>\n",
       "      <td>154258</td>\n",
       "      <td>0</td>\n",
       "    </tr>\n",
       "    <tr>\n",
       "      <th>Uranium</th>\n",
       "      <td>37731</td>\n",
       "      <td>0</td>\n",
       "    </tr>\n",
       "  </tbody>\n",
       "</table>\n",
       "</div>"
      ],
      "text/plain": [
       "                        value             \n",
       "unit_measurement micrograms/L milligrams/L\n",
       "chemical_species                          \n",
       "Arsenic                142001            0\n",
       "DEHP                    72825            0\n",
       "Halo-Acetic Acid       146132            0\n",
       "Nitrates                    0       329372\n",
       "Trihalomethane         154258            0\n",
       "Uranium                 37731            0"
      ]
     },
     "execution_count": 25,
     "metadata": {
      "tags": []
     },
     "output_type": "execute_result"
    }
   ],
   "source": [
    "# Show how many times for a unit measurement was used on a chemical species\n",
    "pd.pivot_table(chemicals[['chemical_species', 'unit_measurement', 'value']], index='chemical_species', columns='unit_measurement', aggfunc='count').fillna(0).astype('int')"
   ]
  },
  {
   "cell_type": "markdown",
   "metadata": {
    "colab_type": "text",
    "id": "89BWVsXt_QOj"
   },
   "source": [
    "We see that the unit of measurement is indeed consistent. "
   ]
  },
  {
   "cell_type": "code",
   "execution_count": 26,
   "metadata": {
    "colab": {
     "base_uri": "https://localhost:8080/",
     "height": 753
    },
    "colab_type": "code",
    "id": "8Iyrm_wK_5IA",
    "outputId": "cdd3d6ca-2d72-481d-e8ed-3d8ff9ebccb2"
   },
   "outputs": [
    {
     "data": {
      "image/png": "[encoded data removed]",
      "text/plain": [
       "<matplotlib.figure.Figure at 0x7f4a47654e48>"
      ]
     },
     "metadata": {
      "tags": []
     },
     "output_type": "display_data"
    }
   ],
   "source": [
    "plot = sns.catplot(x=\"value\", y=\"chemical_species\", hue='contaminant_level',kind=\"box\", height=10, aspect=2, data=chemicals)\n",
    "plot.set_titles('Box plot of contaminant valye by chemical species')\n",
    "ax = plot.axes[0][0]\n",
    "ax.set_xscale('log')"
   ]
  },
  {
   "cell_type": "markdown",
   "metadata": {
    "colab_type": "text",
    "id": "ztWkeM8mAZVG"
   },
   "source": [
    "Looking at the *containment_level* and *value* feature of the *chemicals.csv*, we see that different counties have different standards for each of the six chemicals. \n",
    "\n",
    "Because of this inconsistency, in future analysis, we will use the level instead of raw values. "
   ]
  },
  {
   "cell_type": "code",
   "execution_count": 0,
   "metadata": {
    "colab": {},
    "colab_type": "code",
    "id": "N0qwhDbIBkUq"
   },
   "outputs": [],
   "source": [
    "chem_indus = pd.merge(left=chemicals, right=industry, left_on=['year', 'state', 'county'], right_on=['year', 'state', 'county'], how='inner')"
   ]
  },
  {
   "cell_type": "code",
   "execution_count": 0,
   "metadata": {
    "colab": {},
    "colab_type": "code",
    "id": "BEA2tnAGBnXW"
   },
   "outputs": [],
   "source": [
    "from collections import defaultdict\n",
    "corr = defaultdict(list)\n",
    "for chem_y in set(chem_indus['chemical_species']):\n",
    "    for indus in industry_cat:\n",
    "        temp_df = chem_indus[chem_indus['chemical_species'] == chem_y][['value', indus]]\n",
    "        corr[chem_y].append(np.corrcoef(temp_df['value'], temp_df[indus])[0][1])"
   ]
  },
  {
   "cell_type": "code",
   "execution_count": 29,
   "metadata": {
    "colab": {
     "base_uri": "https://localhost:8080/",
     "height": 357
    },
    "colab_type": "code",
    "id": "rMyYAyfPBqdk",
    "outputId": "986f45d1-f09f-40da-d3a0-063213cd4ae8"
   },
   "outputs": [
    {
     "data": {
      "text/plain": [
       "<matplotlib.axes._subplots.AxesSubplot at 0x7f4a4772e550>"
      ]
     },
     "execution_count": 29,
     "metadata": {
      "tags": []
     },
     "output_type": "execute_result"
    },
    {
     "data": {
      "image/png": "[encoded data removed]",
      "text/plain": [
       "<matplotlib.figure.Figure at 0x7f4a476e3c50>"
      ]
     },
     "metadata": {
      "tags": []
     },
     "output_type": "display_data"
    }
   ],
   "source": [
    "corr = pd.DataFrame(corr)\n",
    "corr.index = industry_cat\n",
    "sns.heatmap(corr)"
   ]
  },
  {
   "cell_type": "markdown",
   "metadata": {
    "colab_type": "text",
    "id": "uKRblmIKBtmg"
   },
   "source": [
    "The above heatmap shows the correlation between the different types of industires and the level of contamination for each of the six chemical species. We see that Nitrates are correlated with most industries, but especially with agriculture. "
   ]
  },
  {
   "cell_type": "code",
   "execution_count": 31,
   "metadata": {
    "colab": {
     "base_uri": "https://localhost:8080/",
     "height": 340
    },
    "colab_type": "code",
    "id": "D4mMxwuQCncK",
    "outputId": "5e12255e-0dd0-4ba8-aafd-644742e08170"
   },
   "outputs": [
    {
     "data": {
      "image/png": "[encoded data removed]",
      "text/plain": [
       "<matplotlib.figure.Figure at 0x7f4a475d56d8>"
      ]
     },
     "metadata": {
      "tags": []
     },
     "output_type": "display_data"
    }
   ],
   "source": [
    "industry['lag_1'] = industry['year'] + 3\n",
    "chem_indus = pd.merge(left=chemicals, right=industry, left_on=['year', 'state', 'county'], right_on=['lag_1', 'state', 'county'], how='inner')\n",
    "corr = defaultdict(list)\n",
    "for chem_y in set(chem_indus['chemical_species']):\n",
    "    for indus in industry_cat:\n",
    "        temp_df = chem_indus[chem_indus['chemical_species'] == chem_y][['value', indus]]\n",
    "        corr[chem_y].append(np.corrcoef(temp_df['value'], temp_df[indus])[0][1])\n",
    "corr = pd.DataFrame(corr)\n",
    "corr.index = industry_cat\n",
    "plot = sns.heatmap(corr, annot=True)"
   ]
  },
  {
   "cell_type": "markdown",
   "metadata": {
    "colab_type": "text",
    "id": "K2t1WlyhC7js"
   },
   "source": [
    "The above heatmap shows the correlation when timelag=2. This timelagged heatmap exhibited a greater correlation than the non-timelagged heatmap two figures above. So, henceforth we will use the timelag=2 heatmap. "
   ]
  },
  {
   "cell_type": "markdown",
   "metadata": {
    "colab_type": "text",
    "id": "Rzlc14HKebzP"
   },
   "source": [
    "### Modeling"
   ]
  },
  {
   "cell_type": "markdown",
   "metadata": {
    "colab_type": "text",
    "id": "Obea1I1kgU6Z"
   },
   "source": [
    "**Analysis:**\n",
    "\n",
    "1.   What assumptions and choices did we make?\n",
    "2.   Why did we make those assumptions and choices?\n",
    "3.   How did we perform feature selection?\n",
    "\n",
    "**Model:**\n",
    "\n",
    "1.   What does it show?\n",
    "2.   How did we analyse the model performance?\n",
    "3.   What are the model's limitations and shortcomings?\n",
    "\n",
    "**Visualisations and Statistical Tests**\n",
    "\n",
    "1.   Why did we make these visualisations or statistical tests?\n",
    "2.   What do they tell us?"
   ]
  },
  {
   "cell_type": "markdown",
   "metadata": {
    "colab_type": "text",
    "id": "ZKnf1YD3EgK2"
   },
   "source": [
    "Now, we will create the timelag=2 dataset to be used in our predictive model. "
   ]
  },
  {
   "cell_type": "code",
   "execution_count": 0,
   "metadata": {
    "colab": {},
    "colab_type": "code",
    "id": "DhETwkOXDguB"
   },
   "outputs": [],
   "source": [
    "\n",
    "chemicals = chemicals[['chemical_species', 'contaminant_level', 'county', 'pop_served', 'state', 'value', 'year']]\n",
    "chemicals['danger'] = chemicals['contaminant_level'] == 'Greater than MCL'\n",
    "chemicals.head()\n",
    "industry = industry[['county', 'state', 'year'] + industry_cat]\n",
    "for cat in industry_cat:\n",
    "    industry['percentage_' + cat] = industry[cat] / industry[industry_cat].sum(axis=1)\n",
    "lag_1 = industry.copy()\n",
    "lag_2 = industry.copy()\n",
    "lag_1['year'] = lag_1['year'] + 1\n",
    "lag_2['year'] = lag_2['year'] + 2"
   ]
  },
  {
   "cell_type": "markdown",
   "metadata": {
    "colab_type": "text",
    "id": "_DxiMizaDe8W"
   },
   "source": [
    "We then perform a train test split and reclassify the *containment_level* feature. Originally, the levels were: \n",
    "\n",
    "\n",
    "1.   Less than\n",
    "2.   Non-detect\n",
    "3.   Greater than\n",
    "\n",
    "\n"
   ]
  },
  {
   "cell_type": "code",
   "execution_count": 0,
   "metadata": {
    "colab": {},
    "colab_type": "code",
    "id": "uVmuPXq3tTKH"
   },
   "outputs": [],
   "source": [
    "data = pd.merge(left=chemicals, right=industry, left_on=['year', 'state', 'county'], right_on=['year', 'state', 'county'], how='inner')\\\n",
    ".merge(lag_1, left_on=['year', 'state', 'county'], right_on=['year', 'state', 'county'], how='inner', suffixes=['', '_lag1'])\\\n",
    ".merge(lag_2, left_on=['year', 'state', 'county'], right_on=['year', 'state', 'county'], how='inner', suffixes=['', '_lag2'])\n",
    "data.head()\n",
    "contaminant_encoder = LabelEncoder()\n",
    "state_encoder = LabelEncoder()\n",
    "county_encoder = LabelEncoder()\n",
    "chemical_species_encoder = LabelEncoder()\n",
    "data['chemical_species'] = contaminant_encoder.fit_transform(data['chemical_species'])\n",
    "data['contaminant_level'] = contaminant_encoder.fit_transform(data['contaminant_level'])\n",
    "data['state'] = state_encoder.fit_transform(data['state'])\n",
    "data['county'] = county_encoder.fit_transform(data['county'])\n",
    "label = data[['contaminant_level', 'value', 'danger', 'year']]\n",
    "data = data.drop(['contaminant_level', 'value', 'danger'], axis=1)"
   ]
  },
  {
   "cell_type": "markdown",
   "metadata": {
    "colab_type": "text",
    "id": "lgThry3iFXqs"
   },
   "source": [
    "We now have: \n",
    "\n",
    "\n",
    "\n",
    "1.   Safe (less than and non-detect)\n",
    "2.   Danger (greater than)\n"
   ]
  },
  {
   "cell_type": "markdown",
   "metadata": {
    "colab_type": "text",
    "id": "lk_Og8sCFdPK"
   },
   "source": [
    "Lets now see how *containment_level* is distibuted across counties."
   ]
  },
  {
   "cell_type": "code",
   "execution_count": 41,
   "metadata": {
    "colab": {
     "base_uri": "https://localhost:8080/",
     "height": 34
    },
    "colab_type": "code",
    "id": "A1kROlH1EQex",
    "outputId": "ee01141e-85e9-454e-ccd5-83dfd7cf04c3"
   },
   "outputs": [
    {
     "name": "stdout",
     "output_type": "stream",
     "text": [
      "Count of danger is 1612, count of safe is 172907\n"
     ]
    }
   ],
   "source": [
    "print('Count of danger is %d, count of safe is %d' % (sum(label['danger']), label.shape[0] - sum(label['danger'])))"
   ]
  },
  {
   "cell_type": "markdown",
   "metadata": {
    "colab_type": "text",
    "id": "SB58lie0FlOT"
   },
   "source": [
    "Because the data is imbalanced, we will use AUC to measure the accuracy.\n"
   ]
  },
  {
   "cell_type": "code",
   "execution_count": 0,
   "metadata": {
    "colab": {},
    "colab_type": "code",
    "id": "1q0hW1C8Fpw-"
   },
   "outputs": [],
   "source": [
    "train, test = data[data['year'] < 2016], data[data['year'] >= 2016]\n",
    "train_label, test_label = label[label['year'] < 2016], label[label['year'] >= 2016]"
   ]
  },
  {
   "cell_type": "markdown",
   "metadata": {
    "colab_type": "text",
    "id": "m5vn9vRhGUZ9"
   },
   "source": [
    "We chose LightGBM as our prediction model because it is generally faster and has higher accuracy. LightGBM is a gradient boosting framework that uses tree based learning algorithm. LightGBM grows tree vertically while other algorithm grows trees horizontally meaning that LightGBM grows tree leaf-wise while other algorithm grows level-wise. It will choose the leaf with max delta loss to grow. When growing the same leaf, Leaf-wise algorithm can reduce more loss than a level-wise algorithm."
   ]
  },
  {
   "cell_type": "code",
   "execution_count": 44,
   "metadata": {
    "colab": {
     "base_uri": "https://localhost:8080/",
     "height": 232
    },
    "colab_type": "code",
    "id": "CdK7swtmF2Kn",
    "outputId": "bee069cd-894e-4bfe-ee13-69ac864a00f3"
   },
   "outputs": [
    {
     "ename": "NameError",
     "evalue": "ignored",
     "output_type": "error",
     "traceback": [
      "\u001b[0;31m---------------------------------------------------------------------------\u001b[0m",
      "\u001b[0;31mNameError\u001b[0m                                 Traceback (most recent call last)",
      "\u001b[0;32m<ipython-input-44-8aa1e84900f5>\u001b[0m in \u001b[0;36m<module>\u001b[0;34m()\u001b[0m\n\u001b[0;32m----> 1\u001b[0;31m \u001b[0mlgb_train\u001b[0m \u001b[0;34m=\u001b[0m \u001b[0mlgb\u001b[0m\u001b[0;34m.\u001b[0m\u001b[0mDataset\u001b[0m\u001b[0;34m(\u001b[0m\u001b[0mtrain\u001b[0m\u001b[0;34m,\u001b[0m \u001b[0mlabel\u001b[0m\u001b[0;34m=\u001b[0m\u001b[0mtrain_label\u001b[0m\u001b[0;34m[\u001b[0m\u001b[0;34m'danger'\u001b[0m\u001b[0;34m]\u001b[0m\u001b[0;34m,\u001b[0m \u001b[0mcategorical_feature\u001b[0m\u001b[0;34m=\u001b[0m\u001b[0;34m[\u001b[0m\u001b[0;34m'chemical_species'\u001b[0m\u001b[0;34m,\u001b[0m \u001b[0;34m'county'\u001b[0m\u001b[0;34m,\u001b[0m \u001b[0;34m'state'\u001b[0m\u001b[0;34m]\u001b[0m\u001b[0;34m)\u001b[0m\u001b[0;34m\u001b[0m\u001b[0m\n\u001b[0m\u001b[1;32m      2\u001b[0m \u001b[0mlgb_test\u001b[0m \u001b[0;34m=\u001b[0m \u001b[0mlgb\u001b[0m\u001b[0;34m.\u001b[0m\u001b[0mDataset\u001b[0m\u001b[0;34m(\u001b[0m\u001b[0mtest\u001b[0m\u001b[0;34m,\u001b[0m \u001b[0mlabel\u001b[0m\u001b[0;34m=\u001b[0m\u001b[0mtest_label\u001b[0m\u001b[0;34m[\u001b[0m\u001b[0;34m'danger'\u001b[0m\u001b[0;34m]\u001b[0m\u001b[0;34m,\u001b[0m \u001b[0mcategorical_feature\u001b[0m\u001b[0;34m=\u001b[0m\u001b[0;34m[\u001b[0m\u001b[0;34m'chemical_species'\u001b[0m\u001b[0;34m,\u001b[0m \u001b[0;34m'county'\u001b[0m\u001b[0;34m,\u001b[0m \u001b[0;34m'state'\u001b[0m\u001b[0;34m]\u001b[0m\u001b[0;34m)\u001b[0m\u001b[0;34m\u001b[0m\u001b[0m\n\u001b[1;32m      3\u001b[0m \u001b[0mparam\u001b[0m \u001b[0;34m=\u001b[0m \u001b[0;34m{\u001b[0m\u001b[0;34m'num_leaves'\u001b[0m\u001b[0;34m:\u001b[0m\u001b[0;36m50\u001b[0m\u001b[0;34m,\u001b[0m \u001b[0;34m'num_trees'\u001b[0m\u001b[0;34m:\u001b[0m\u001b[0;36m200\u001b[0m\u001b[0;34m,\u001b[0m \u001b[0;34m'objective'\u001b[0m\u001b[0;34m:\u001b[0m\u001b[0;34m'binary'\u001b[0m\u001b[0;34m,\u001b[0m \u001b[0;34m'learning_rate'\u001b[0m\u001b[0;34m:\u001b[0m\u001b[0;36m0.05\u001b[0m\u001b[0;34m}\u001b[0m\u001b[0;34m\u001b[0m\u001b[0m\n\u001b[1;32m      4\u001b[0m \u001b[0mparam\u001b[0m\u001b[0;34m[\u001b[0m\u001b[0;34m'metric'\u001b[0m\u001b[0;34m]\u001b[0m \u001b[0;34m=\u001b[0m \u001b[0;34m'auc'\u001b[0m\u001b[0;34m\u001b[0m\u001b[0m\n\u001b[1;32m      5\u001b[0m \u001b[0mnum_round\u001b[0m \u001b[0;34m=\u001b[0m \u001b[0;36m20\u001b[0m\u001b[0;34m\u001b[0m\u001b[0m\n",
      "\u001b[0;31mNameError\u001b[0m: name 'lgb' is not defined"
     ]
    }
   ],
   "source": [
    "lgb_train = lgb.Dataset(train, label=train_label['danger'], categorical_feature=['chemical_species', 'county', 'state'])\n",
    "lgb_test = lgb.Dataset(test, label=test_label['danger'], categorical_feature=['chemical_species', 'county', 'state'])\n",
    "param = {'num_leaves':50, 'num_trees':200, 'objective':'binary', 'learning_rate':0.05}\n",
    "param['metric'] = 'auc'\n",
    "num_round = 20\n",
    "bst = lgb.train(param, lgb_train, num_round, valid_sets=[lgb_test])"
   ]
  },
  {
   "cell_type": "code",
   "execution_count": 45,
   "metadata": {
    "colab": {
     "base_uri": "https://localhost:8080/",
     "height": 232
    },
    "colab_type": "code",
    "id": "-IlwA43hGFny",
    "outputId": "03469e60-bbef-44e9-802d-1dabbb570568"
   },
   "outputs": [
    {
     "ename": "NameError",
     "evalue": "ignored",
     "output_type": "error",
     "traceback": [
      "\u001b[0;31m---------------------------------------------------------------------------\u001b[0m",
      "\u001b[0;31mNameError\u001b[0m                                 Traceback (most recent call last)",
      "\u001b[0;32m<ipython-input-45-cfed6252682a>\u001b[0m in \u001b[0;36m<module>\u001b[0;34m()\u001b[0m\n\u001b[0;32m----> 1\u001b[0;31m \u001b[0moutput\u001b[0m \u001b[0;34m=\u001b[0m \u001b[0mbst\u001b[0m\u001b[0;34m.\u001b[0m\u001b[0mpredict\u001b[0m\u001b[0;34m(\u001b[0m\u001b[0mtest\u001b[0m\u001b[0;34m)\u001b[0m\u001b[0;34m\u001b[0m\u001b[0m\n\u001b[0m\u001b[1;32m      2\u001b[0m \u001b[0mtest_label\u001b[0m\u001b[0;34m[\u001b[0m\u001b[0;34m'predict'\u001b[0m\u001b[0;34m]\u001b[0m \u001b[0;34m=\u001b[0m \u001b[0moutput\u001b[0m\u001b[0;34m\u001b[0m\u001b[0m\n\u001b[1;32m      3\u001b[0m \u001b[0mtest_label\u001b[0m\u001b[0;34m[\u001b[0m\u001b[0;34m'correct'\u001b[0m\u001b[0;34m]\u001b[0m \u001b[0;34m=\u001b[0m \u001b[0;34m(\u001b[0m\u001b[0moutput\u001b[0m \u001b[0;34m>\u001b[0m \u001b[0;36m0.5\u001b[0m\u001b[0;34m)\u001b[0m \u001b[0;34m==\u001b[0m \u001b[0mtest_label\u001b[0m\u001b[0;34m[\u001b[0m\u001b[0;34m'danger'\u001b[0m\u001b[0;34m]\u001b[0m\u001b[0;34m\u001b[0m\u001b[0m\n\u001b[1;32m      4\u001b[0m \u001b[0mnp\u001b[0m\u001b[0;34m.\u001b[0m\u001b[0mmean\u001b[0m\u001b[0;34m(\u001b[0m\u001b[0mtest_label\u001b[0m\u001b[0;34m[\u001b[0m\u001b[0;34m'correct'\u001b[0m\u001b[0;34m]\u001b[0m \u001b[0;34m==\u001b[0m \u001b[0;32mTrue\u001b[0m\u001b[0;34m)\u001b[0m\u001b[0;34m\u001b[0m\u001b[0m\n\u001b[1;32m      5\u001b[0m \u001b[0mskplt\u001b[0m\u001b[0;34m.\u001b[0m\u001b[0mmetrics\u001b[0m\u001b[0;34m.\u001b[0m\u001b[0mplot_roc_curve\u001b[0m\u001b[0;34m(\u001b[0m\u001b[0mtest_label\u001b[0m\u001b[0;34m[\u001b[0m\u001b[0;34m'danger'\u001b[0m\u001b[0;34m]\u001b[0m\u001b[0;34m,\u001b[0m \u001b[0mnp\u001b[0m\u001b[0;34m.\u001b[0m\u001b[0marray\u001b[0m\u001b[0;34m(\u001b[0m\u001b[0;34m[\u001b[0m\u001b[0;36m1\u001b[0m\u001b[0;34m-\u001b[0m\u001b[0moutput\u001b[0m\u001b[0;34m.\u001b[0m\u001b[0mT\u001b[0m\u001b[0;34m,\u001b[0m\u001b[0moutput\u001b[0m\u001b[0;34m.\u001b[0m\u001b[0mT\u001b[0m\u001b[0;34m]\u001b[0m\u001b[0;34m)\u001b[0m\u001b[0;34m.\u001b[0m\u001b[0mT\u001b[0m\u001b[0;34m,\u001b[0m \u001b[0mfigsize\u001b[0m\u001b[0;34m=\u001b[0m\u001b[0;34m(\u001b[0m\u001b[0;36m10\u001b[0m\u001b[0;34m,\u001b[0m \u001b[0;36m10\u001b[0m\u001b[0;34m)\u001b[0m\u001b[0;34m)\u001b[0m\u001b[0;34m\u001b[0m\u001b[0m\n",
      "\u001b[0;31mNameError\u001b[0m: name 'bst' is not defined"
     ]
    }
   ],
   "source": [
    "output = bst.predict(test)\n",
    "test_label['predict'] = output\n",
    "test_label['correct'] = (output > 0.5) == test_label['danger']\n",
    "np.mean(test_label['correct'] == True)\n",
    "skplt.metrics.plot_roc_curve(test_label['danger'], np.array([1-output.T,output.T]).T, figsize=(10, 10))"
   ]
  },
  {
   "cell_type": "markdown",
   "metadata": {
    "colab_type": "text",
    "id": "JGyBd2TGH_Fp"
   },
   "source": [
    "![alt text](https://)We fit the model to our training data and use the validation to test it. The accuracy score is around ~92%. This shows that the model fits the data quite accurately. "
   ]
  },
  {
   "cell_type": "code",
   "execution_count": 47,
   "metadata": {
    "colab": {
     "base_uri": "https://localhost:8080/",
     "height": 181
    },
    "colab_type": "code",
    "id": "9ybtJmIMIswn",
    "outputId": "c2abe583-acbd-4e6f-b065-f6036a439d9b"
   },
   "outputs": [
    {
     "ename": "NameError",
     "evalue": "ignored",
     "output_type": "error",
     "traceback": [
      "\u001b[0;31m---------------------------------------------------------------------------\u001b[0m",
      "\u001b[0;31mNameError\u001b[0m                                 Traceback (most recent call last)",
      "\u001b[0;32m<ipython-input-47-eacb16062b11>\u001b[0m in \u001b[0;36m<module>\u001b[0;34m()\u001b[0m\n\u001b[0;32m----> 1\u001b[0;31m \u001b[0mfeature_importance\u001b[0m \u001b[0;34m=\u001b[0m \u001b[0mpd\u001b[0m\u001b[0;34m.\u001b[0m\u001b[0mDataFrame\u001b[0m\u001b[0;34m(\u001b[0m\u001b[0;34m{\u001b[0m\u001b[0;34m'feature'\u001b[0m \u001b[0;34m:\u001b[0m \u001b[0mtrain\u001b[0m\u001b[0;34m.\u001b[0m\u001b[0mcolumns\u001b[0m\u001b[0;34m,\u001b[0m \u001b[0;34m'importance'\u001b[0m \u001b[0;34m:\u001b[0m \u001b[0mbst\u001b[0m\u001b[0;34m.\u001b[0m\u001b[0mfeature_importance\u001b[0m\u001b[0;34m(\u001b[0m\u001b[0;34m)\u001b[0m\u001b[0;34m}\u001b[0m\u001b[0;34m)\u001b[0m\u001b[0;34m.\u001b[0m\u001b[0msort_values\u001b[0m\u001b[0;34m(\u001b[0m\u001b[0;34m'importance'\u001b[0m\u001b[0;34m,\u001b[0m \u001b[0mascending\u001b[0m\u001b[0;34m=\u001b[0m\u001b[0;32mFalse\u001b[0m\u001b[0;34m)\u001b[0m\u001b[0;34m\u001b[0m\u001b[0m\n\u001b[0m\u001b[1;32m      2\u001b[0m \u001b[0msns\u001b[0m\u001b[0;34m.\u001b[0m\u001b[0mbarplot\u001b[0m\u001b[0;34m(\u001b[0m\u001b[0mx\u001b[0m\u001b[0;34m=\u001b[0m\u001b[0;34m'importance'\u001b[0m\u001b[0;34m,\u001b[0m \u001b[0my\u001b[0m\u001b[0;34m=\u001b[0m\u001b[0;34m'feature'\u001b[0m\u001b[0;34m,\u001b[0m \u001b[0mdata\u001b[0m\u001b[0;34m=\u001b[0m\u001b[0mfeature_importance\u001b[0m\u001b[0;34m[\u001b[0m\u001b[0;34m:\u001b[0m\u001b[0;36m20\u001b[0m\u001b[0;34m]\u001b[0m\u001b[0;34m)\u001b[0m\u001b[0;34m\u001b[0m\u001b[0m\n",
      "\u001b[0;31mNameError\u001b[0m: name 'bst' is not defined"
     ]
    }
   ],
   "source": [
    "feature_importance = pd.DataFrame({'feature' : train.columns, 'importance' : bst.feature_importance()}).sort_values('importance', ascending=False)\n",
    "sns.barplot(x='importance', y='feature', data=feature_importance[:20])"
   ]
  },
  {
   "cell_type": "markdown",
   "metadata": {
    "colab_type": "text",
    "id": "FiZK8iRGJP3S"
   },
   "source": [
    "We find that *population* and *location* are very influential in the prediction of future polluted areas. We also find that other interesting features, such as the number employed by the agriculture and transportation sectors, also play important roles. These findings are in agreement with common intuition."
   ]
  },
  {
   "cell_type": "markdown",
   "metadata": {
    "colab_type": "text",
    "id": "Vn1u038HJsUo"
   },
   "source": [
    "## Future Predictions\n",
    "\n",
    "We know that our model is accurate, so we can now use that model to predict locations where water quality might fall in the future. \n",
    "\n",
    "We created a copy of the original dataset (2010-2016) and used that to train the predictive model (timelag=2). This model predicts the safe/danger classification of each chemical species in 2017 across all counties.\n",
    "\n",
    "\n",
    "(Reminder: we assumed that future industry structure will not change.)"
   ]
  },
  {
   "cell_type": "code",
   "execution_count": 48,
   "metadata": {
    "colab": {
     "base_uri": "https://localhost:8080/",
     "height": 119
    },
    "colab_type": "code",
    "id": "8un6FjDdJuOe",
    "outputId": "27d45902-1367-4997-adee-a5ad8d39ec01"
   },
   "outputs": [
    {
     "name": "stderr",
     "output_type": "stream",
     "text": [
      "/usr/local/lib/python3.6/dist-packages/ipykernel_launcher.py:2: SettingWithCopyWarning: \n",
      "A value is trying to be set on a copy of a slice from a DataFrame.\n",
      "Try using .loc[row_indexer,col_indexer] = value instead\n",
      "\n",
      "See the caveats in the documentation: http://pandas.pydata.org/pandas-docs/stable/indexing.html#indexing-view-versus-copy\n",
      "  \n"
     ]
    }
   ],
   "source": [
    "future_industry = industry[industry['year']==2016]\n",
    "future_industry['year'] = 2017\n",
    "industry = pd.concat([industry, future_industry])"
   ]
  },
  {
   "cell_type": "code",
   "execution_count": 49,
   "metadata": {
    "colab": {
     "base_uri": "https://localhost:8080/",
     "height": 119
    },
    "colab_type": "code",
    "id": "vOTqVFRPJycv",
    "outputId": "6084b74f-5b14-4f54-db9a-f46639b00803"
   },
   "outputs": [
    {
     "name": "stderr",
     "output_type": "stream",
     "text": [
      "/usr/local/lib/python3.6/dist-packages/ipykernel_launcher.py:2: SettingWithCopyWarning: \n",
      "A value is trying to be set on a copy of a slice from a DataFrame.\n",
      "Try using .loc[row_indexer,col_indexer] = value instead\n",
      "\n",
      "See the caveats in the documentation: http://pandas.pydata.org/pandas-docs/stable/indexing.html#indexing-view-versus-copy\n",
      "  \n"
     ]
    }
   ],
   "source": [
    "future_chemical = chemicals[chemicals['year'] == 2016]\n",
    "future_chemical['year'] = 2017\n",
    "chemicals = pd.concat([chemicals, future_chemical])"
   ]
  },
  {
   "cell_type": "code",
   "execution_count": 0,
   "metadata": {
    "colab": {},
    "colab_type": "code",
    "id": "BREN5r9CKCLq"
   },
   "outputs": [],
   "source": [
    "data = pd.merge(left=chemicals, right=industry, left_on=['year', 'state', 'county'], right_on=['year', 'state', 'county'], how='inner')\\\n",
    ".merge(lag_1, left_on=['year', 'state', 'county'], right_on=['year', 'state', 'county'], how='inner', suffixes=['', '_lag1'])\\\n",
    ".merge(lag_2, left_on=['year', 'state', 'county'], right_on=['year', 'state', 'county'], how='inner', suffixes=['', '_lag2'])\n",
    "data.head()\n",
    "contaminant_encoder = LabelEncoder()\n",
    "state_encoder = LabelEncoder()\n",
    "county_encoder = LabelEncoder()\n",
    "chemical_species_encoder = LabelEncoder()\n",
    "chemical_species_encoder.fit(data['chemical_species'])\n",
    "contaminant_encoder.fit(data['contaminant_level'])\n",
    "state_encoder.fit(data['state'])\n",
    "county_encoder.fit(data['county'])\n",
    "data['chemical_species'] = chemical_species_encoder.transform(data['chemical_species'])\n",
    "data['contaminant_level'] = contaminant_encoder.transform(data['contaminant_level'])\n",
    "data['state'] = state_encoder.transform(data['state'])\n",
    "data['county'] = county_encoder.transform(data['county'])\n",
    "label = data[['contaminant_level', 'value', 'danger', 'year']]\n",
    "data = data.drop(['contaminant_level', 'value', 'danger'], axis=1)"
   ]
  },
  {
   "cell_type": "code",
   "execution_count": 0,
   "metadata": {
    "colab": {},
    "colab_type": "code",
    "id": "vJDMqSeOKL_U"
   },
   "outputs": [],
   "source": [
    "train, test = data[data['year'] < 2017], data[data['year'] >= 2017]\n",
    "train_label, test_label = label[label['year'] < 2017], label[label['year'] >= 2017]"
   ]
  },
  {
   "cell_type": "code",
   "execution_count": 52,
   "metadata": {
    "colab": {
     "base_uri": "https://localhost:8080/",
     "height": 181
    },
    "colab_type": "code",
    "id": "6c_Z-sWUKOhh",
    "outputId": "a8a70e21-859e-416d-d840-9496d441c93b"
   },
   "outputs": [
    {
     "ename": "NameError",
     "evalue": "ignored",
     "output_type": "error",
     "traceback": [
      "\u001b[0;31m---------------------------------------------------------------------------\u001b[0m",
      "\u001b[0;31mNameError\u001b[0m                                 Traceback (most recent call last)",
      "\u001b[0;32m<ipython-input-52-b17d9c4422c1>\u001b[0m in \u001b[0;36m<module>\u001b[0;34m()\u001b[0m\n\u001b[0;32m----> 1\u001b[0;31m \u001b[0mlgb_train\u001b[0m \u001b[0;34m=\u001b[0m \u001b[0mlgb\u001b[0m\u001b[0;34m.\u001b[0m\u001b[0mDataset\u001b[0m\u001b[0;34m(\u001b[0m\u001b[0mtrain\u001b[0m\u001b[0;34m,\u001b[0m \u001b[0mlabel\u001b[0m\u001b[0;34m=\u001b[0m\u001b[0mtrain_label\u001b[0m\u001b[0;34m[\u001b[0m\u001b[0;34m'danger'\u001b[0m\u001b[0;34m]\u001b[0m\u001b[0;34m,\u001b[0m \u001b[0mcategorical_feature\u001b[0m\u001b[0;34m=\u001b[0m\u001b[0;34m[\u001b[0m\u001b[0;34m'chemical_species'\u001b[0m\u001b[0;34m,\u001b[0m \u001b[0;34m'county'\u001b[0m\u001b[0;34m,\u001b[0m \u001b[0;34m'state'\u001b[0m\u001b[0;34m]\u001b[0m\u001b[0;34m)\u001b[0m\u001b[0;34m\u001b[0m\u001b[0m\n\u001b[0m\u001b[1;32m      2\u001b[0m \u001b[0mbst\u001b[0m \u001b[0;34m=\u001b[0m \u001b[0mlgb\u001b[0m\u001b[0;34m.\u001b[0m\u001b[0mtrain\u001b[0m\u001b[0;34m(\u001b[0m\u001b[0mparam\u001b[0m\u001b[0;34m,\u001b[0m \u001b[0mlgb_train\u001b[0m\u001b[0;34m,\u001b[0m \u001b[0mnum_round\u001b[0m\u001b[0;34m)\u001b[0m\u001b[0;34m\u001b[0m\u001b[0m\n",
      "\u001b[0;31mNameError\u001b[0m: name 'lgb' is not defined"
     ]
    }
   ],
   "source": [
    "lgb_train = lgb.Dataset(train, label=train_label['danger'], categorical_feature=['chemical_species', 'county', 'state'])\n",
    "bst = lgb.train(param, lgb_train, num_round)"
   ]
  },
  {
   "cell_type": "code",
   "execution_count": 53,
   "metadata": {
    "colab": {
     "base_uri": "https://localhost:8080/",
     "height": 164
    },
    "colab_type": "code",
    "id": "07jvXBWPKRvd",
    "outputId": "6426dd48-693b-4dd2-8cf4-8de43bcaca33"
   },
   "outputs": [
    {
     "ename": "NameError",
     "evalue": "ignored",
     "output_type": "error",
     "traceback": [
      "\u001b[0;31m---------------------------------------------------------------------------\u001b[0m",
      "\u001b[0;31mNameError\u001b[0m                                 Traceback (most recent call last)",
      "\u001b[0;32m<ipython-input-53-d851c8242be3>\u001b[0m in \u001b[0;36m<module>\u001b[0;34m()\u001b[0m\n\u001b[0;32m----> 1\u001b[0;31m \u001b[0moutput\u001b[0m \u001b[0;34m=\u001b[0m \u001b[0mbst\u001b[0m\u001b[0;34m.\u001b[0m\u001b[0mpredict\u001b[0m\u001b[0;34m(\u001b[0m\u001b[0mtest\u001b[0m\u001b[0;34m)\u001b[0m\u001b[0;34m\u001b[0m\u001b[0m\n\u001b[0m",
      "\u001b[0;31mNameError\u001b[0m: name 'bst' is not defined"
     ]
    }
   ],
   "source": [
    "output = bst.predict(test)\n",
    "print(output)"
   ]
  },
  {
   "cell_type": "markdown",
   "metadata": {
    "colab_type": "text",
    "id": "Fn-Z_EniMa3l"
   },
   "source": [
    "The above is our prediction.\n",
    "\n",
    "To balance between TPR and FPR, we use 0.5 as the threshhold of classification."
   ]
  },
  {
   "cell_type": "code",
   "execution_count": 54,
   "metadata": {
    "colab": {
     "base_uri": "https://localhost:8080/",
     "height": 232
    },
    "colab_type": "code",
    "id": "luZf3Ud1KWEl",
    "outputId": "ff330c3c-bda1-4da0-b613-101b04f76e9f"
   },
   "outputs": [
    {
     "ename": "NameError",
     "evalue": "ignored",
     "output_type": "error",
     "traceback": [
      "\u001b[0;31m---------------------------------------------------------------------------\u001b[0m",
      "\u001b[0;31mNameError\u001b[0m                                 Traceback (most recent call last)",
      "\u001b[0;32m<ipython-input-54-6cae19f4e38e>\u001b[0m in \u001b[0;36m<module>\u001b[0;34m()\u001b[0m\n\u001b[0;32m----> 1\u001b[0;31m \u001b[0mtest\u001b[0m\u001b[0;34m[\u001b[0m\u001b[0;34m'danger'\u001b[0m\u001b[0;34m]\u001b[0m \u001b[0;34m=\u001b[0m \u001b[0moutput\u001b[0m \u001b[0;34m>=\u001b[0m \u001b[0;36m0.5\u001b[0m\u001b[0;34m\u001b[0m\u001b[0m\n\u001b[0m\u001b[1;32m      2\u001b[0m \u001b[0mtest\u001b[0m\u001b[0;34m[\u001b[0m\u001b[0;34m'chemical_species'\u001b[0m\u001b[0;34m]\u001b[0m \u001b[0;34m=\u001b[0m \u001b[0mchemical_species_encoder\u001b[0m\u001b[0;34m.\u001b[0m\u001b[0minverse_transform\u001b[0m\u001b[0;34m(\u001b[0m\u001b[0mtest\u001b[0m\u001b[0;34m[\u001b[0m\u001b[0;34m'chemical_species'\u001b[0m\u001b[0;34m]\u001b[0m\u001b[0;34m)\u001b[0m\u001b[0;34m\u001b[0m\u001b[0m\n\u001b[1;32m      3\u001b[0m \u001b[0mtest\u001b[0m\u001b[0;34m[\u001b[0m\u001b[0;34m'state'\u001b[0m\u001b[0;34m]\u001b[0m \u001b[0;34m=\u001b[0m \u001b[0mstate_encoder\u001b[0m\u001b[0;34m.\u001b[0m\u001b[0minverse_transform\u001b[0m\u001b[0;34m(\u001b[0m\u001b[0mtest\u001b[0m\u001b[0;34m[\u001b[0m\u001b[0;34m'state'\u001b[0m\u001b[0;34m]\u001b[0m\u001b[0;34m)\u001b[0m\u001b[0;34m\u001b[0m\u001b[0m\n\u001b[1;32m      4\u001b[0m \u001b[0mtest\u001b[0m\u001b[0;34m[\u001b[0m\u001b[0;34m'county'\u001b[0m\u001b[0;34m]\u001b[0m \u001b[0;34m=\u001b[0m \u001b[0mcounty_encoder\u001b[0m\u001b[0;34m.\u001b[0m\u001b[0minverse_transform\u001b[0m\u001b[0;34m(\u001b[0m\u001b[0mtest\u001b[0m\u001b[0;34m[\u001b[0m\u001b[0;34m'county'\u001b[0m\u001b[0;34m]\u001b[0m\u001b[0;34m)\u001b[0m\u001b[0;34m\u001b[0m\u001b[0m\n\u001b[1;32m      5\u001b[0m \u001b[0mdanger\u001b[0m \u001b[0;34m=\u001b[0m \u001b[0mtest\u001b[0m\u001b[0;34m[\u001b[0m\u001b[0mtest\u001b[0m\u001b[0;34m[\u001b[0m\u001b[0;34m'danger'\u001b[0m\u001b[0;34m]\u001b[0m\u001b[0;34m]\u001b[0m\u001b[0;34m\u001b[0m\u001b[0m\n",
      "\u001b[0;31mNameError\u001b[0m: name 'output' is not defined"
     ]
    }
   ],
   "source": [
    "test['danger'] = output >= 0.5\n",
    "test['chemical_species'] = chemical_species_encoder.inverse_transform(test['chemical_species'])\n",
    "test['state'] = state_encoder.inverse_transform(test['state'])\n",
    "test['county'] = county_encoder.inverse_transform(test['county'])\n",
    "danger = test[test['danger']]"
   ]
  },
  {
   "cell_type": "markdown",
   "metadata": {
    "colab_type": "text",
    "id": "lk73sUocKhcj"
   },
   "source": [
    "Now we produce a list of places that have a high likelihood of greater than mean concentration of harmful chemicals."
   ]
  },
  {
   "cell_type": "code",
   "execution_count": 55,
   "metadata": {
    "colab": {
     "base_uri": "https://localhost:8080/",
     "height": 164
    },
    "colab_type": "code",
    "id": "Ejrh0zjRKfz2",
    "outputId": "b1beea11-70d1-4ed1-8320-93418ff83f89"
   },
   "outputs": [
    {
     "ename": "NameError",
     "evalue": "ignored",
     "output_type": "error",
     "traceback": [
      "\u001b[0;31m---------------------------------------------------------------------------\u001b[0m",
      "\u001b[0;31mNameError\u001b[0m                                 Traceback (most recent call last)",
      "\u001b[0;32m<ipython-input-55-c946a845656b>\u001b[0m in \u001b[0;36m<module>\u001b[0;34m()\u001b[0m\n\u001b[0;32m----> 1\u001b[0;31m \u001b[0mdanger\u001b[0m\u001b[0;34m[\u001b[0m\u001b[0;34m[\u001b[0m\u001b[0;34m'chemical_species'\u001b[0m\u001b[0;34m,\u001b[0m \u001b[0;34m'state'\u001b[0m\u001b[0;34m,\u001b[0m \u001b[0;34m'county'\u001b[0m\u001b[0;34m,\u001b[0m \u001b[0;34m'year'\u001b[0m\u001b[0;34m]\u001b[0m\u001b[0;34m]\u001b[0m\u001b[0;34m.\u001b[0m\u001b[0mdrop_duplicates\u001b[0m\u001b[0;34m(\u001b[0m\u001b[0;34m[\u001b[0m\u001b[0;34m'state'\u001b[0m\u001b[0;34m,\u001b[0m \u001b[0;34m'county'\u001b[0m\u001b[0;34m]\u001b[0m\u001b[0;34m)\u001b[0m\u001b[0;34m\u001b[0m\u001b[0m\n\u001b[0m",
      "\u001b[0;31mNameError\u001b[0m: name 'danger' is not defined"
     ]
    }
   ],
   "source": [
    "danger[['chemical_species', 'state', 'county', 'year']].drop_duplicates(['state', 'county'])"
   ]
  },
  {
   "cell_type": "markdown",
   "metadata": {
    "colab_type": "text",
    "id": "wTK1ONNm8th4"
   },
   "source": [
    "#**Summary** \n"
   ]
  },
  {
   "cell_type": "markdown",
   "metadata": {
    "colab_type": "text",
    "id": "h4Ypt-hx893n"
   },
   "source": [
    "# **Reference**"
   ]
  }
 ],
 "metadata": {
  "colab": {
   "collapsed_sections": [],
   "name": "Datathon.ipynb",
   "provenance": [],
   "version": "0.3.2"
  },
  "kernelspec": {
   "display_name": "Python 3",
   "language": "python",
   "name": "python3"
  },
  "language_info": {
   "codemirror_mode": {
    "name": "ipython",
    "version": 3
   },
   "file_extension": ".py",
   "mimetype": "text/x-python",
   "name": "python",
   "nbconvert_exporter": "python",
   "pygments_lexer": "ipython3",
   "version": "3.6.6"
  }
 },
 "nbformat": 4,
 "nbformat_minor": 1
}
